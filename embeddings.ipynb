{
 "cells": [
  {
   "cell_type": "code",
   "execution_count": 162,
   "metadata": {},
   "outputs": [],
   "source": [
    "import matplotlib.pyplot as plt\n",
    "\n",
    "%matplotlib inline"
   ]
  },
  {
   "cell_type": "code",
   "execution_count": 247,
   "metadata": {},
   "outputs": [],
   "source": [
    "import pandas as pd\n",
    "import numpy as np\n",
    "import networkx as nx\n",
    "\n",
    "from sklearn.manifold import TSNE\n",
    "import matplotlib.pyplot as plt\n",
    "from sklearn.ensemble import IsolationForest\n",
    "import numpy as np\n",
    "from gensim.models import Word2Vec, KeyedVectors\n",
    "from datetime import datetime, date, time\n",
    "from itertools import *\n",
    "import time"
   ]
  },
  {
   "cell_type": "code",
   "execution_count": 216,
   "metadata": {},
   "outputs": [],
   "source": [
    "def shuffle(data):\n",
    "    for i in range(len(data)):\n",
    "        j = np.random.randint(i, high=len(data))\n",
    "        tmp = data[j]\n",
    "        data[j] = data[i]\n",
    "        data[i] = tmp"
   ]
  },
  {
   "cell_type": "code",
   "execution_count": 217,
   "metadata": {},
   "outputs": [
    {
     "data": {
      "text/html": [
       "<div>\n",
       "<style scoped>\n",
       "    .dataframe tbody tr th:only-of-type {\n",
       "        vertical-align: middle;\n",
       "    }\n",
       "\n",
       "    .dataframe tbody tr th {\n",
       "        vertical-align: top;\n",
       "    }\n",
       "\n",
       "    .dataframe thead th {\n",
       "        text-align: right;\n",
       "    }\n",
       "</style>\n",
       "<table border=\"1\" class=\"dataframe\">\n",
       "  <thead>\n",
       "    <tr style=\"text-align: right;\">\n",
       "      <th></th>\n",
       "      <th>id</th>\n",
       "      <th>Click time</th>\n",
       "      <th>Ad id</th>\n",
       "      <th>Advertiser id</th>\n",
       "      <th>Site id</th>\n",
       "      <th>User id</th>\n",
       "      <th>User IP</th>\n",
       "    </tr>\n",
       "  </thead>\n",
       "  <tbody>\n",
       "    <tr>\n",
       "      <th>0</th>\n",
       "      <td>0</td>\n",
       "      <td>1406977042</td>\n",
       "      <td>a3fbcd7e4b6362c75ab56687116a2433</td>\n",
       "      <td>510885b9a863ce0bd84b2ed3e58398f9</td>\n",
       "      <td>f9f32862920f6ca00c9725eade88f3d9</td>\n",
       "      <td>36b51acc9d3250851d0c0114aa04cc46</td>\n",
       "      <td>b1c7ac8696898d6f799e2f64c94156e6</td>\n",
       "    </tr>\n",
       "    <tr>\n",
       "      <th>1</th>\n",
       "      <td>1</td>\n",
       "      <td>1406977012</td>\n",
       "      <td>8683b0a8e3b4cac34cb40821e498ccdc</td>\n",
       "      <td>78ee95b2e2a854b40c714656b3f4321f</td>\n",
       "      <td>aa8e410642c0a8b95c53ea98a45c90b2</td>\n",
       "      <td>c6b363b3302908d1d6046d080df839e4</td>\n",
       "      <td>fd5cc76d2bfe24099c8777d557524b45</td>\n",
       "    </tr>\n",
       "    <tr>\n",
       "      <th>2</th>\n",
       "      <td>2</td>\n",
       "      <td>1406976966</td>\n",
       "      <td>8f8670b832c00cfd8493bca779aba942</td>\n",
       "      <td>e4551b0407c1cd88b24d367fc1ba4c5a</td>\n",
       "      <td>67877aff2349aa3053210af23632428f</td>\n",
       "      <td>0f2918a022fde0225b535988734461c4</td>\n",
       "      <td>39db42ae552c7c52dff1eb45d097bcab</td>\n",
       "    </tr>\n",
       "    <tr>\n",
       "      <th>3</th>\n",
       "      <td>3</td>\n",
       "      <td>1406976910</td>\n",
       "      <td>3437653362b4fab85ca9e147230208c5</td>\n",
       "      <td>478fb38eaeca30e36e1394411b2282a2</td>\n",
       "      <td>67877aff2349aa3053210af23632428f</td>\n",
       "      <td>bc605147700345892e6307ddfb4dedb6</td>\n",
       "      <td>10aa7a94cd916c9c6c1fa8c4cf22c92d</td>\n",
       "    </tr>\n",
       "    <tr>\n",
       "      <th>4</th>\n",
       "      <td>4</td>\n",
       "      <td>1406976857</td>\n",
       "      <td>a7e94defddbea68fb8cbc0885829a8b2</td>\n",
       "      <td>fcf373d8127ff67ac5501de0f6f80ec3</td>\n",
       "      <td>d2373599997dca05b50ade27578b8251</td>\n",
       "      <td>c32870919f9270d120cd58d68a957c18</td>\n",
       "      <td>0b0cad9116bb30d043be878866accd40</td>\n",
       "    </tr>\n",
       "  </tbody>\n",
       "</table>\n",
       "</div>"
      ],
      "text/plain": [
       "   id  Click time                             Ad id  \\\n",
       "0   0  1406977042  a3fbcd7e4b6362c75ab56687116a2433   \n",
       "1   1  1406977012  8683b0a8e3b4cac34cb40821e498ccdc   \n",
       "2   2  1406976966  8f8670b832c00cfd8493bca779aba942   \n",
       "3   3  1406976910  3437653362b4fab85ca9e147230208c5   \n",
       "4   4  1406976857  a7e94defddbea68fb8cbc0885829a8b2   \n",
       "\n",
       "                      Advertiser id                           Site id  \\\n",
       "0  510885b9a863ce0bd84b2ed3e58398f9  f9f32862920f6ca00c9725eade88f3d9   \n",
       "1  78ee95b2e2a854b40c714656b3f4321f  aa8e410642c0a8b95c53ea98a45c90b2   \n",
       "2  e4551b0407c1cd88b24d367fc1ba4c5a  67877aff2349aa3053210af23632428f   \n",
       "3  478fb38eaeca30e36e1394411b2282a2  67877aff2349aa3053210af23632428f   \n",
       "4  fcf373d8127ff67ac5501de0f6f80ec3  d2373599997dca05b50ade27578b8251   \n",
       "\n",
       "                            User id                           User IP  \n",
       "0  36b51acc9d3250851d0c0114aa04cc46  b1c7ac8696898d6f799e2f64c94156e6  \n",
       "1  c6b363b3302908d1d6046d080df839e4  fd5cc76d2bfe24099c8777d557524b45  \n",
       "2  0f2918a022fde0225b535988734461c4  39db42ae552c7c52dff1eb45d097bcab  \n",
       "3  bc605147700345892e6307ddfb4dedb6  10aa7a94cd916c9c6c1fa8c4cf22c92d  \n",
       "4  c32870919f9270d120cd58d68a957c18  0b0cad9116bb30d043be878866accd40  "
      ]
     },
     "execution_count": 217,
     "metadata": {},
     "output_type": "execute_result"
    }
   ],
   "source": [
    "df = pd.read_csv('clicks_hashed.csv')[:10000]\n",
    "df.head()"
   ]
  },
  {
   "cell_type": "code",
   "execution_count": 240,
   "metadata": {},
   "outputs": [
    {
     "data": {
      "text/plain": [
       "(0, 5314)"
      ]
     },
     "execution_count": 240,
     "metadata": {},
     "output_type": "execute_result"
    }
   ],
   "source": [
    "timestamp = df['Click time']\n",
    "max_gap = max(timestamp) - min(timestamp)\n",
    "d = timedelta(seconds=max_gap)\n",
    "d.days, d.seconds"
   ]
  },
  {
   "cell_type": "code",
   "execution_count": 219,
   "metadata": {},
   "outputs": [],
   "source": [
    "nx_graph = nx.MultiGraph()\n",
    "n_cols = len(df.columns)\n",
    "user_col = df.columns[-2]\n",
    "site_col = df.columns[-3]\n",
    "for row in df.itertuples():\n",
    "    vals_with_col_names = ['{}_{}'.format(df.columns[i], row[i + 1]) for i in range(len(df.columns))]\n",
    "    user = vals_with_col_names[5]\n",
    "    advertiser = vals_with_col_names[3]\n",
    "    site = vals_with_col_names[4]\n",
    "    for i in range(4, 6):\n",
    "        nx_graph.add_node(vals_with_col_names[i], label=df.columns[i])\n",
    "        \n",
    "    nx_graph.add_edge(user, site, time=row[2])"
   ]
  },
  {
   "cell_type": "code",
   "execution_count": 220,
   "metadata": {},
   "outputs": [],
   "source": [
    "labels = nx.get_node_attributes(nx_graph, 'label')"
   ]
  },
  {
   "cell_type": "code",
   "execution_count": 221,
   "metadata": {},
   "outputs": [],
   "source": [
    "def inc(dic, key, val):\n",
    "    if key not in dic:\n",
    "        dic[key] = []\n",
    "    dic[key].append(val)"
   ]
  },
  {
   "cell_type": "code",
   "execution_count": 222,
   "metadata": {},
   "outputs": [],
   "source": [
    "def tail_of_sorted(dic, num, rev):\n",
    "    cur_tail = set()\n",
    "    last_key = None\n",
    "    for key in sorted(dic.keys(), reverse=rev):\n",
    "        remainder = max(0, num - len(cur_tail))\n",
    "        if remainder > 0:\n",
    "            last_key = key\n",
    "            cur_tail |= set(dic[key][:remainder])\n",
    "        else:\n",
    "            break\n",
    "    return cur_tail, last_key"
   ]
  },
  {
   "cell_type": "code",
   "execution_count": 223,
   "metadata": {},
   "outputs": [],
   "source": [
    "clicks_to_node, duplicates_to_node, gap_to_node = {}, {}, {}\n",
    "for node in nx_graph.node:\n",
    "    if labels[node] == user_col:\n",
    "        clicks = nx_graph.degree(node)\n",
    "        inc(clicks_to_node, clicks, node)\n",
    "        \n",
    "        max_duplicates = 0\n",
    "        max_gap = -1\n",
    "        for neighbor in nx_graph.neighbors(node):\n",
    "            edge_data = nx_graph.get_edge_data(node, neighbor)\n",
    "            timestamps = sorted([edge_data[neigh]['time'] for neigh in edge_data])\n",
    "            if len(timestamps) > 1:\n",
    "                max_gap = max(max_gap, max([timestamps[i] - timestamps[i - 1] for i in range(1, len(timestamps))]))\n",
    "            max_duplicates = max(max_duplicates, len(timestamps))\n",
    "            \n",
    "        inc(duplicates_to_node, max_duplicates, node)\n",
    "        if max_gap >= 0:\n",
    "            inc(gap_to_node, max_gap, node)\n",
    "        "
   ]
  },
  {
   "cell_type": "code",
   "execution_count": 224,
   "metadata": {},
   "outputs": [
    {
     "data": {
      "text/plain": [
       "14"
      ]
     },
     "execution_count": 224,
     "metadata": {},
     "output_type": "execute_result"
    }
   ],
   "source": [
    "clicks_tail, _ = tail_of_sorted(clicks_to_node, 100, True)\n",
    "duplicates_tail, _ = tail_of_sorted(duplicates_to_node, 100, True)\n",
    "gaps_tail, gap = tail_of_sorted(gap_to_node, 100, False)\n",
    "\n",
    "gap"
   ]
  },
  {
   "cell_type": "code",
   "execution_count": 225,
   "metadata": {},
   "outputs": [
    {
     "data": {
      "text/plain": [
       "220"
      ]
     },
     "execution_count": 225,
     "metadata": {},
     "output_type": "execute_result"
    }
   ],
   "source": [
    "outliers = clicks_tail | duplicates_tail | gaps_tail\n",
    "len(outliers)"
   ]
  },
  {
   "cell_type": "code",
   "execution_count": 226,
   "metadata": {},
   "outputs": [
    {
     "name": "stdout",
     "output_type": "stream",
     "text": [
      "4\n"
     ]
    },
    {
     "data": {
      "text/plain": [
       "dict_values([{}, {}, {'time': 123}])"
      ]
     },
     "execution_count": 226,
     "metadata": {},
     "output_type": "execute_result"
    }
   ],
   "source": [
    "mg = nx.MultiGraph()\n",
    "mg.add_edge(1, 2)\n",
    "mg.add_edge(1, 2)\n",
    "mg.add_edge(1, 2, time=123)\n",
    "mg.add_edge(1, 3, time=123)\n",
    "print(mg.degree(1))\n",
    "mg.get_edge_data(1, 2).values()\n",
    "# for xx in mg.neighbors(2):\n",
    "#     print(xx)\n",
    "\n",
    "# mg.\n"
   ]
  },
  {
   "cell_type": "code",
   "execution_count": 227,
   "metadata": {},
   "outputs": [],
   "source": [
    "def get_degrees_by_label(nodes):\n",
    "    degrees_by_label = dict([(col, []) for col in df.columns[2:6]])\n",
    "    \n",
    "    deg = nx_graph.degree\n",
    "    for node in nodes:\n",
    "        label = labels[node]\n",
    "        degrees_by_label[labels[node]].append(nx_graph.degree(node))\n",
    "\n",
    "    return degrees_by_label"
   ]
  },
  {
   "cell_type": "code",
   "execution_count": 228,
   "metadata": {},
   "outputs": [],
   "source": [
    "def plot_degree_hist(nodes):\n",
    "    plt.figure(figsize=(20,16))\n",
    "    \n",
    "    degrees_by_label = get_degrees_by_label(nodes)\n",
    "    for i, col in enumerate(df.columns[3:6]):\n",
    "        degrees = np.array(degrees_by_label[col])\n",
    "        print(col, 'mean: ', degrees.mean(), 'median: ', np.median(degrees))\n",
    "        ax = plt.subplot(2, 2, i + 1)\n",
    "        ax.set_title(col)\n",
    "        plt.hist(np.array(degrees), bins=40, density=True)\n",
    "        "
   ]
  },
  {
   "cell_type": "code",
   "execution_count": 229,
   "metadata": {},
   "outputs": [
    {
     "name": "stderr",
     "output_type": "stream",
     "text": [
      "/home/roman/.local/lib/python3.6/site-packages/ipykernel_launcher.py:7: RuntimeWarning: Mean of empty slice.\n",
      "  import sys\n",
      "/home/roman/.local/lib/python3.6/site-packages/numpy/core/_methods.py:80: RuntimeWarning: invalid value encountered in double_scalars\n",
      "  ret = ret.dtype.type(ret / rcount)\n",
      "/home/roman/.local/lib/python3.6/site-packages/numpy/core/fromnumeric.py:2957: RuntimeWarning: Mean of empty slice.\n",
      "  out=out, **kwargs)\n",
      "/home/roman/.local/lib/python3.6/site-packages/numpy/lib/function_base.py:838: RuntimeWarning: invalid value encountered in true_divide\n",
      "  return n/db/n.sum(), bin_edges\n"
     ]
    },
    {
     "name": "stdout",
     "output_type": "stream",
     "text": [
      "Advertiser id mean:  nan median:  nan\n",
      "Site id mean:  26.666666666666668 median:  4.0\n",
      "User id mean:  1.1786892975011787 median:  1.0\n"
     ]
    },
    {
     "data": {
      "image/png": "[encoded data removed]",
      "text/plain": [
       "<Figure size 1440x1152 with 3 Axes>"
      ]
     },
     "metadata": {
      "needs_background": "light"
     },
     "output_type": "display_data"
    }
   ],
   "source": [
    "plot_degree_hist(nx_graph.nodes)"
   ]
  },
  {
   "cell_type": "code",
   "execution_count": 252,
   "metadata": {},
   "outputs": [],
   "source": [
    "metapaths = [\n",
    "    [\"User id\", \"Site id\"]\n",
    "#     [\"User id\", \"Advertiser id\"],\n",
    "#     [\"Advertiser id\", \"Ad id\", \"Site id\", \"Ad id\", \"Advertiser id\"]\n",
    "]"
   ]
  },
  {
   "cell_type": "code",
   "execution_count": 231,
   "metadata": {},
   "outputs": [],
   "source": [
    "def visualize(embeddings, color):\n",
    "    tsne = TSNE(random_state=42)\n",
    "    embeddings_2d = tsne.fit_transform(embeddings)\n",
    "    \n",
    "    ax = plt.gca()\n",
    "    ax.scatter(embeddings_2d[:, 0], embeddings_2d[:, 1], color=color)"
   ]
  },
  {
   "cell_type": "code",
   "execution_count": 232,
   "metadata": {},
   "outputs": [],
   "source": [
    "import logging\n",
    "logging.getLogger().setLevel(logging.DEBUG)"
   ]
  },
  {
   "cell_type": "code",
   "execution_count": 233,
   "metadata": {},
   "outputs": [],
   "source": [
    "def print_embeddings(wv):\n",
    "    for w in wv.index2word:\n",
    "        print(w, wv[w])"
   ]
  },
  {
   "cell_type": "code",
   "execution_count": 234,
   "metadata": {},
   "outputs": [
    {
     "name": "stdout",
     "output_type": "stream",
     "text": [
      "ab [-0.03302584  0.02807255 -0.02034169 -0.01868852 -0.03655759  0.03733052\n",
      "  0.01499179 -0.01892737 -0.02919713  0.02912121  0.00539309  0.00179358]\n",
      "cd [ 0.0158291   0.00348992 -0.00337256 -0.004869   -0.00822682 -0.00757282\n",
      "  0.03373738 -0.01886186  0.01308674  0.0061597  -0.01581526 -0.01167588]\n",
      "ef [ 0.02754328  0.00720795  0.02028308 -0.03608489  0.02636644  0.02296141\n",
      "  0.03394622 -0.03097611  0.00456259 -0.02038387 -0.01893904 -0.01704763]\n",
      "gh [-0.00217897  0.01762091 -0.01134779  0.02878012  0.00888268 -0.03875111\n",
      "  0.04006844  0.03753015 -0.02503809 -0.03540228  0.00653189  0.01997325]\n"
     ]
    }
   ],
   "source": [
    "test_path = 'test/fest'\n",
    "model = Word2Vec([['ab', 'cd'], ['ef', 'gh']], size=12, window=5, min_count=0, sg=1, workers=2, iter=1)\n",
    "print_embeddings(model.wv)\n",
    "model.wv.save(test_path)\n"
   ]
  },
  {
   "cell_type": "code",
   "execution_count": 235,
   "metadata": {},
   "outputs": [
    {
     "name": "stdout",
     "output_type": "stream",
     "text": [
      "ab [-0.03302584  0.02807255 -0.02034169 -0.01868852 -0.03655759  0.03733052\n",
      "  0.01499179 -0.01892737 -0.02919713  0.02912121  0.00539309  0.00179358]\n",
      "cd [ 0.0158291   0.00348992 -0.00337256 -0.004869   -0.00822682 -0.00757282\n",
      "  0.03373738 -0.01886186  0.01308674  0.0061597  -0.01581526 -0.01167588]\n",
      "ef [ 0.02754328  0.00720795  0.02028308 -0.03608489  0.02636644  0.02296141\n",
      "  0.03394622 -0.03097611  0.00456259 -0.02038387 -0.01893904 -0.01704763]\n",
      "gh [-0.00217897  0.01762091 -0.01134779  0.02878012  0.00888268 -0.03875111\n",
      "  0.04006844  0.03753015 -0.02503809 -0.03540228  0.00653189  0.01997325]\n"
     ]
    }
   ],
   "source": [
    "print_embeddings(KeyedVectors.load(test_path, mmap='r'))\n"
   ]
  },
  {
   "cell_type": "code",
   "execution_count": 236,
   "metadata": {},
   "outputs": [
    {
     "data": {
      "text/plain": [
       "['ab', 'cd', 'ef', 'gh']"
      ]
     },
     "execution_count": 236,
     "metadata": {},
     "output_type": "execute_result"
    }
   ],
   "source": [
    "model.wv.index2word"
   ]
  },
  {
   "cell_type": "code",
   "execution_count": 237,
   "metadata": {},
   "outputs": [],
   "source": [
    "from pathlib import Path"
   ]
  },
  {
   "cell_type": "code",
   "execution_count": 239,
   "metadata": {},
   "outputs": [
    {
     "ename": "AttributeError",
     "evalue": "'Series' object has no attribute 'time'",
     "output_type": "error",
     "traceback": [
      "\u001b[0;31m---------------------------------------------------------------------------\u001b[0m",
      "\u001b[0;31mAttributeError\u001b[0m                            Traceback (most recent call last)",
      "\u001b[0;32m<ipython-input-239-20e94bacf081>\u001b[0m in \u001b[0;36m<module>\u001b[0;34m\u001b[0m\n\u001b[0;32m----> 1\u001b[0;31m \u001b[0mbefore\u001b[0m \u001b[0;34m=\u001b[0m \u001b[0mtime\u001b[0m\u001b[0;34m.\u001b[0m\u001b[0mtime\u001b[0m\u001b[0;34m(\u001b[0m\u001b[0;34m)\u001b[0m\u001b[0;34m\u001b[0m\u001b[0;34m\u001b[0m\u001b[0m\n\u001b[0m\u001b[1;32m      2\u001b[0m \u001b[0mmodel\u001b[0m \u001b[0;34m=\u001b[0m \u001b[0mWord2Vec\u001b[0m\u001b[0;34m(\u001b[0m\u001b[0mwalks\u001b[0m\u001b[0;34m,\u001b[0m \u001b[0msize\u001b[0m\u001b[0;34m=\u001b[0m\u001b[0;36m12\u001b[0m\u001b[0;34m,\u001b[0m \u001b[0mwindow\u001b[0m\u001b[0;34m=\u001b[0m\u001b[0;36m5\u001b[0m\u001b[0;34m,\u001b[0m \u001b[0mmin_count\u001b[0m\u001b[0;34m=\u001b[0m\u001b[0;36m0\u001b[0m\u001b[0;34m,\u001b[0m \u001b[0msg\u001b[0m\u001b[0;34m=\u001b[0m\u001b[0;36m1\u001b[0m\u001b[0;34m,\u001b[0m \u001b[0mworkers\u001b[0m\u001b[0;34m=\u001b[0m\u001b[0;36m2\u001b[0m\u001b[0;34m,\u001b[0m \u001b[0miter\u001b[0m\u001b[0;34m=\u001b[0m\u001b[0;36m1\u001b[0m\u001b[0;34m)\u001b[0m\u001b[0;34m\u001b[0m\u001b[0;34m\u001b[0m\u001b[0m\n\u001b[1;32m      3\u001b[0m \u001b[0mafter\u001b[0m \u001b[0;34m=\u001b[0m \u001b[0mtime\u001b[0m\u001b[0;34m.\u001b[0m\u001b[0mtime\u001b[0m\u001b[0;34m(\u001b[0m\u001b[0;34m)\u001b[0m\u001b[0;34m\u001b[0m\u001b[0;34m\u001b[0m\u001b[0m\n\u001b[1;32m      4\u001b[0m \u001b[0mprint\u001b[0m\u001b[0;34m(\u001b[0m\u001b[0;34m'word2vec'\u001b[0m\u001b[0;34m,\u001b[0m \u001b[0mafter\u001b[0m \u001b[0;34m-\u001b[0m \u001b[0mbefore\u001b[0m\u001b[0;34m,\u001b[0m \u001b[0;34m's'\u001b[0m\u001b[0;34m)\u001b[0m\u001b[0;34m\u001b[0m\u001b[0;34m\u001b[0m\u001b[0m\n\u001b[1;32m      5\u001b[0m \u001b[0mword_vectors\u001b[0m \u001b[0;34m=\u001b[0m \u001b[0mmodel\u001b[0m\u001b[0;34m.\u001b[0m\u001b[0mwv\u001b[0m\u001b[0;34m\u001b[0m\u001b[0;34m\u001b[0m\u001b[0m\n",
      "\u001b[0;32m~/.local/lib/python3.6/site-packages/pandas/core/generic.py\u001b[0m in \u001b[0;36m__getattr__\u001b[0;34m(self, name)\u001b[0m\n\u001b[1;32m   4374\u001b[0m             \u001b[0;32mif\u001b[0m \u001b[0mself\u001b[0m\u001b[0;34m.\u001b[0m\u001b[0m_info_axis\u001b[0m\u001b[0;34m.\u001b[0m\u001b[0m_can_hold_identifiers_and_holds_name\u001b[0m\u001b[0;34m(\u001b[0m\u001b[0mname\u001b[0m\u001b[0;34m)\u001b[0m\u001b[0;34m:\u001b[0m\u001b[0;34m\u001b[0m\u001b[0;34m\u001b[0m\u001b[0m\n\u001b[1;32m   4375\u001b[0m                 \u001b[0;32mreturn\u001b[0m \u001b[0mself\u001b[0m\u001b[0;34m[\u001b[0m\u001b[0mname\u001b[0m\u001b[0;34m]\u001b[0m\u001b[0;34m\u001b[0m\u001b[0;34m\u001b[0m\u001b[0m\n\u001b[0;32m-> 4376\u001b[0;31m             \u001b[0;32mreturn\u001b[0m \u001b[0mobject\u001b[0m\u001b[0;34m.\u001b[0m\u001b[0m__getattribute__\u001b[0m\u001b[0;34m(\u001b[0m\u001b[0mself\u001b[0m\u001b[0;34m,\u001b[0m \u001b[0mname\u001b[0m\u001b[0;34m)\u001b[0m\u001b[0;34m\u001b[0m\u001b[0;34m\u001b[0m\u001b[0m\n\u001b[0m\u001b[1;32m   4377\u001b[0m \u001b[0;34m\u001b[0m\u001b[0m\n\u001b[1;32m   4378\u001b[0m     \u001b[0;32mdef\u001b[0m \u001b[0m__setattr__\u001b[0m\u001b[0;34m(\u001b[0m\u001b[0mself\u001b[0m\u001b[0;34m,\u001b[0m \u001b[0mname\u001b[0m\u001b[0;34m,\u001b[0m \u001b[0mvalue\u001b[0m\u001b[0;34m)\u001b[0m\u001b[0;34m:\u001b[0m\u001b[0;34m\u001b[0m\u001b[0;34m\u001b[0m\u001b[0m\n",
      "\u001b[0;31mAttributeError\u001b[0m: 'Series' object has no attribute 'time'"
     ]
    }
   ],
   "source": [
    "before = time.time()\n",
    "model = Word2Vec(walks, size=12, window=5, min_count=0, sg=1, workers=2, iter=1)\n",
    "after = time.time()\n",
    "print('word2vec', after - before, 's')\n",
    "word_vectors = model.wv\n",
    "vector_file = datetime.isoformat(datetime.now(), timespec='seconds')\n",
    "model.wv.save('saved/' + vector_file)"
   ]
  },
  {
   "cell_type": "code",
   "execution_count": 256,
   "metadata": {},
   "outputs": [],
   "source": [
    "def get_walks(nodes, graph, length, walks_per_node, metapaths):\n",
    "    walks = []\n",
    "    for node in nodes:\n",
    "        filtered_metapaths = [metapath for metapath in metapaths if metapath[0] == graph.node[node]['label']]\n",
    "        for metapath in filtered_metapaths:\n",
    "            for walk_number in range(walks_per_node):\n",
    "                walk = [node]\n",
    "                walk_time_sum = 0\n",
    "                current_node = node\n",
    "                for i in range(length - 1):\n",
    "                    neighbour_timedeltas = []\n",
    "                    for neighbour in graph.neighbors(current_node):\n",
    "                        if graph.node[neighbour]['label'] == metapath[(i + 1) % len(metapath)]:\n",
    "                            for possible_edge in graph.get_edge_data(neighbour, walk[-1]).values():\n",
    "                                if len(walk) >= 2:\n",
    "                                    walk_time_avg = walk_time_sum / (len(walk) - 1)\n",
    "#                                     print(walk_time_avg)\n",
    "                                    timedelta_seconds = abs(walk_time_avg - possible_edge['time'])\n",
    "                                else:\n",
    "                                    timedelta_seconds = 0\n",
    "\n",
    "                                neighbour_timedeltas.append((neighbour, timedelta_seconds))\n",
    "                    if len(neighbour_timedeltas) == 0:\n",
    "                        break\n",
    "                    else:\n",
    "                        neighbour_timedeltas.sort(key=lambda x: x[1])\n",
    "                        rand_ix = np.random.randint(0, high=max(len(neighbour_timedeltas) // 2, 1))\n",
    "                        current_node, timedelta_seconds = neighbour_timedeltas[rand_ix]\n",
    "                        \n",
    "                    walk.append(current_node)\n",
    "                    walk_time_sum += timedelta_seconds\n",
    "                \n",
    "#                 print(walk)\n",
    "                walks.append(walk)\n",
    "    return walks"
   ]
  },
  {
   "cell_type": "code",
   "execution_count": 258,
   "metadata": {},
   "outputs": [
    {
     "data": {
      "text/plain": [
       "[['User id_36b51acc9d3250851d0c0114aa04cc46',\n",
       "  'Site id_f9f32862920f6ca00c9725eade88f3d9',\n",
       "  'User id_36bce9fdfe9034c9a4982caf0cb82230',\n",
       "  'Site id_f9f32862920f6ca00c9725eade88f3d9',\n",
       "  'User id_ed4baff440438a37041897c84b77c417'],\n",
       " ['User id_c6b363b3302908d1d6046d080df839e4',\n",
       "  'Site id_aa8e410642c0a8b95c53ea98a45c90b2',\n",
       "  'User id_46ca3482a83ac086b1cdc45a7415a72a',\n",
       "  'Site id_aa8e410642c0a8b95c53ea98a45c90b2',\n",
       "  'User id_fb72da1bb6c9b926de17fb37008aa101'],\n",
       " ['User id_0f2918a022fde0225b535988734461c4',\n",
       "  'Site id_67877aff2349aa3053210af23632428f',\n",
       "  'User id_3da7d25ada4b0bdf06347ff9dd3440c2',\n",
       "  'Site id_67877aff2349aa3053210af23632428f',\n",
       "  'User id_b221d344b125ddb47693bba3ba295b18'],\n",
       " ['User id_bc605147700345892e6307ddfb4dedb6',\n",
       "  'Site id_67877aff2349aa3053210af23632428f',\n",
       "  'User id_29ba6036205ee48b0ca7fba12b389564',\n",
       "  'Site id_67877aff2349aa3053210af23632428f',\n",
       "  'User id_f474333dd805af4d3fbd64b3691f2b7c'],\n",
       " ['User id_c32870919f9270d120cd58d68a957c18',\n",
       "  'Site id_d2373599997dca05b50ade27578b8251',\n",
       "  'User id_73d4a387f6fa830377b1499404a3c4b7',\n",
       "  'Site id_d2373599997dca05b50ade27578b8251',\n",
       "  'User id_348de534771ea6c954c320c83aea331f']]"
      ]
     },
     "execution_count": 258,
     "metadata": {},
     "output_type": "execute_result"
    }
   ],
   "source": [
    "walks[:5]"
   ]
  },
  {
   "cell_type": "code",
   "execution_count": 243,
   "metadata": {},
   "outputs": [
    {
     "name": "stdout",
     "output_type": "stream",
     "text": [
      "None\n"
     ]
    }
   ],
   "source": [
    "latest_vector_file = None\n",
    "if Path('saved').exists():\n",
    "    embedding_files = [f for f in Path('saved').iterdir()]\n",
    "    if len(embedding_files) > 0:\n",
    "        latest_vector_file = 'saved/' + max(embedding_files, key=lambda f: f.name).name\n",
    "print(latest_vector_file)"
   ]
  },
  {
   "cell_type": "code",
   "execution_count": 257,
   "metadata": {},
   "outputs": [
    {
     "name": "stdout",
     "output_type": "stream",
     "text": [
      "walks 131.56919026374817 s\n",
      "Len  8484\n",
      "word2vec 1.2388684749603271 s\n"
     ]
    }
   ],
   "source": [
    "if latest_vector_file is not None:\n",
    "    word_vectors = KeyedVectors.load(latest_vector_file, mmap='r')\n",
    "else:\n",
    "    word_vectors = None\n",
    "    before = time.time()\n",
    "    walks = get_walks(list(nx_graph.nodes()), nx_graph, 5, 1, metapaths)\n",
    "    after = time.time()\n",
    "    print('walks', after - before, 's')\n",
    "    print('Len ', len(walks))\n",
    "    before = time.time()\n",
    "    model = Word2Vec(walks, size=12, window=5, min_count=0, sg=1, workers=2, iter=1)\n",
    "    after = time.time()\n",
    "    print('word2vec', after - before, 's')\n",
    "    word_vectors = model.wv\n",
    "    vector_file = datetime.isoformat(datetime.now(), timespec='seconds')\n",
    "    model.wv.save('saved/' + vector_file)"
   ]
  },
  {
   "cell_type": "code",
   "execution_count": null,
   "metadata": {},
   "outputs": [],
   "source": [
    "KeyedVectors.load('saved/2018-12-16T14:37:50')"
   ]
  },
  {
   "cell_type": "code",
   "execution_count": 255,
   "metadata": {},
   "outputs": [
    {
     "data": {
      "text/plain": [
       "['User id', 'Site id']"
      ]
     },
     "execution_count": 255,
     "metadata": {},
     "output_type": "execute_result"
    }
   ],
   "source": [
    "metapaths[0]"
   ]
  },
  {
   "cell_type": "code",
   "execution_count": null,
   "metadata": {},
   "outputs": [],
   "source": [
    "print(latest_vector_file)"
   ]
  },
  {
   "cell_type": "code",
   "execution_count": null,
   "metadata": {},
   "outputs": [],
   "source": [
    "node_embeddings = [(n, word_vectors[n]) for n in word_vectors.index2word if n.startswith('User')]"
   ]
  },
  {
   "cell_type": "code",
   "execution_count": null,
   "metadata": {},
   "outputs": [],
   "source": [
    "len(node_embeddings)"
   ]
  },
  {
   "cell_type": "code",
   "execution_count": null,
   "metadata": {},
   "outputs": [],
   "source": [
    "print(len(node_embeddings))\n",
    "outlier_embeddings, inlier_embeddings = [], []\n",
    "for node, emb in node_embeddings:\n",
    "    if node in outliers:\n",
    "        outlier_embeddings.append((node, emb))\n",
    "    else:\n",
    "        inlier_embeddings.append((node, emb))"
   ]
  },
  {
   "cell_type": "code",
   "execution_count": null,
   "metadata": {},
   "outputs": [],
   "source": [
    "plt.imshow([node2emb[1] for node2emb in outlier_embeddings][:10] + [node2emb[1] for node2emb in inlier_embeddings][:10])\n",
    "plt.colorbar()\n",
    "plt.show()"
   ]
  },
  {
   "cell_type": "code",
   "execution_count": null,
   "metadata": {},
   "outputs": [],
   "source": [
    "plt.matshow([node2emb[1] for node2emb in inlier_embeddings][:50])\n",
    "plt.colorbar()"
   ]
  }
 ],
 "metadata": {
  "kernelspec": {
   "display_name": "Python 3",
   "language": "python",
   "name": "python3"
  },
  "language_info": {
   "codemirror_mode": {
    "name": "ipython",
    "version": 3
   },
   "file_extension": ".py",
   "mimetype": "text/x-python",
   "name": "python",
   "nbconvert_exporter": "python",
   "pygments_lexer": "ipython3",
   "version": "3.6.7"
  }
 },
 "nbformat": 4,
 "nbformat_minor": 2
}
